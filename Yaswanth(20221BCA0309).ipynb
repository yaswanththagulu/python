{
  "nbformat": 4,
  "nbformat_minor": 0,
  "metadata": {
    "colab": {
      "provenance": [],
      "authorship_tag": "ABX9TyPYEcDFEUiE7mBbmGSqo18g",
      "include_colab_link": true
    },
    "kernelspec": {
      "name": "python3",
      "display_name": "Python 3"
    },
    "language_info": {
      "name": "python"
    }
  },
  "cells": [
    {
      "cell_type": "markdown",
      "metadata": {
        "id": "view-in-github",
        "colab_type": "text"
      },
      "source": [
        "<a href=\"https://colab.research.google.com/github/yaswanththagulu/python/blob/main/Yaswanth(20221BCA0309).ipynb\" target=\"_parent\"><img src=\"https://colab.research.google.com/assets/colab-badge.svg\" alt=\"Open In Colab\"/></a>"
      ]
    },
    {
      "cell_type": "code",
      "execution_count": 1,
      "metadata": {
        "colab": {
          "base_uri": "https://localhost:8080/"
        },
        "id": "KBgL2SCccbXK",
        "outputId": "e97429cd-b235-4426-dd9c-d07f50d665da"
      },
      "outputs": [
        {
          "output_type": "execute_result",
          "data": {
            "text/plain": [
              "(2, 4, 7)"
            ]
          },
          "metadata": {},
          "execution_count": 1
        }
      ],
      "source": [
        "L = [2,4,7]\n",
        "iterator = iter(L)\n",
        "t = tuple(iterator)\n",
        "t"
      ]
    },
    {
      "cell_type": "code",
      "source": [
        "m = {'Jan': 1, 'Feb': 2, 'Mar': 3, 'Apr': 4, 'May': 5, 'Jun': 6, 'Jul': 7, 'Aug': 8, 'Sep': 9, 'Oct': 10, 'Nov': 11, 'Dec': 12}\n",
        "for key in m:\n",
        "  print(key, m[key])\n"
      ],
      "metadata": {
        "colab": {
          "base_uri": "https://localhost:8080/"
        },
        "id": "VVZuwlIGeNR7",
        "outputId": "97c0a66d-5d63-4df5-ce3c-e1f7ad014197"
      },
      "execution_count": 2,
      "outputs": [
        {
          "output_type": "stream",
          "name": "stdout",
          "text": [
            "Jan 1\n",
            "Feb 2\n",
            "Mar 3\n",
            "Apr 4\n",
            "May 5\n",
            "Jun 6\n",
            "Jul 7\n",
            "Aug 8\n",
            "Sep 9\n",
            "Oct 10\n",
            "Nov 11\n",
            "Dec 12\n"
          ]
        }
      ]
    },
    {
      "cell_type": "code",
      "source": [
        "l=[3,4,6]\n",
        "[2*i for i in l]"
      ],
      "metadata": {
        "colab": {
          "base_uri": "https://localhost:8080/"
        },
        "id": "tIjoPWFZeN0o",
        "outputId": "aa94b3e0-d68c-45b3-cbf7-dd45fe58fa0a"
      },
      "execution_count": 3,
      "outputs": [
        {
          "output_type": "execute_result",
          "data": {
            "text/plain": [
              "[6, 8, 12]"
            ]
          },
          "metadata": {},
          "execution_count": 3
        }
      ]
    },
    {
      "cell_type": "code",
      "source": [
        "l=[7,9,4]\n",
        "for i in l:\n",
        "  x=2*i\n",
        "  print(x)"
      ],
      "metadata": {
        "colab": {
          "base_uri": "https://localhost:8080/"
        },
        "id": "SGloYZlSeN3X",
        "outputId": "bb6e9e3c-461d-47b3-e280-069c51f2f076"
      },
      "execution_count": 4,
      "outputs": [
        {
          "output_type": "stream",
          "name": "stdout",
          "text": [
            "14\n",
            "18\n",
            "8\n"
          ]
        }
      ]
    },
    {
      "cell_type": "code",
      "source": [
        "[2*i for i in l]"
      ],
      "metadata": {
        "colab": {
          "base_uri": "https://localhost:8080/"
        },
        "id": "1ne64XT7eN6Q",
        "outputId": "882b7434-92a5-4cc4-cb62-4bc8e959bfe3"
      },
      "execution_count": 5,
      "outputs": [
        {
          "output_type": "execute_result",
          "data": {
            "text/plain": [
              "[14, 18, 8]"
            ]
          },
          "metadata": {},
          "execution_count": 5
        }
      ]
    },
    {
      "cell_type": "code",
      "source": [
        "L = [('India', 'Amsterdam'), ('ameria', 'Paris'), ('london', 'Washington DC')]\n",
        "dict(iter(L))"
      ],
      "metadata": {
        "colab": {
          "base_uri": "https://localhost:8080/"
        },
        "id": "DtcdwRb0eN83",
        "outputId": "a7ea8d12-0015-46d9-de32-93746c4e3ae7"
      },
      "execution_count": 6,
      "outputs": [
        {
          "output_type": "execute_result",
          "data": {
            "text/plain": [
              "{'India': 'Amsterdam', 'ameria': 'Paris', 'london': 'Washington DC'}"
            ]
          },
          "metadata": {},
          "execution_count": 6
        }
      ]
    },
    {
      "cell_type": "code",
      "source": [
        "line_list=['presidency university\\n','pyhton department \\n','dept of bca \\n','\\n']\n",
        "stripped_list = [line.strip() for line in line_list]\n",
        "print(stripped_list)"
      ],
      "metadata": {
        "colab": {
          "base_uri": "https://localhost:8080/"
        },
        "id": "70NgHM5neN_q",
        "outputId": "bd30f390-3aa8-4dad-98da-4d6ec1e147df"
      },
      "execution_count": 8,
      "outputs": [
        {
          "output_type": "stream",
          "name": "stdout",
          "text": [
            "['presidency university', 'pyhton department', 'dept of bca', '']\n"
          ]
        }
      ]
    },
    {
      "cell_type": "code",
      "source": [
        "seq1 = 'abc'\n",
        "seq2 = (7,5,6)\n",
        "[(x, y) for x in seq1 for y in seq2]"
      ],
      "metadata": {
        "colab": {
          "base_uri": "https://localhost:8080/"
        },
        "id": "WjKOCaKueOCQ",
        "outputId": "422ee678-adf4-400c-9e8b-b660d8e7c13e"
      },
      "execution_count": 9,
      "outputs": [
        {
          "output_type": "execute_result",
          "data": {
            "text/plain": [
              "[('a', 7),\n",
              " ('a', 5),\n",
              " ('a', 6),\n",
              " ('b', 7),\n",
              " ('b', 5),\n",
              " ('b', 6),\n",
              " ('c', 7),\n",
              " ('c', 5),\n",
              " ('c', 6)]"
            ]
          },
          "metadata": {},
          "execution_count": 9
        }
      ]
    },
    {
      "cell_type": "code",
      "source": [
        "def generate_ints(N):\n",
        "  for i in range(N):\n",
        "    yield i\n",
        "\n",
        "\n",
        "gen=generate_ints(6)\n",
        "next(gen)"
      ],
      "metadata": {
        "colab": {
          "base_uri": "https://localhost:8080/"
        },
        "id": "JSDqgipBeOEr",
        "outputId": "badf7dff-07b9-4017-b5cf-bff3feedfebb"
      },
      "execution_count": 10,
      "outputs": [
        {
          "output_type": "execute_result",
          "data": {
            "text/plain": [
              "0"
            ]
          },
          "metadata": {},
          "execution_count": 10
        }
      ]
    },
    {
      "cell_type": "code",
      "source": [
        "next(gen)"
      ],
      "metadata": {
        "colab": {
          "base_uri": "https://localhost:8080/"
        },
        "id": "NRoerBayeOHL",
        "outputId": "07cc83bc-87ea-47b8-db2d-0f11e9104136"
      },
      "execution_count": 12,
      "outputs": [
        {
          "output_type": "execute_result",
          "data": {
            "text/plain": [
              "2"
            ]
          },
          "metadata": {},
          "execution_count": 12
        }
      ]
    },
    {
      "cell_type": "code",
      "source": [
        "next(gen)\n"
      ],
      "metadata": {
        "colab": {
          "base_uri": "https://localhost:8080/"
        },
        "id": "kz10S31XeOJ3",
        "outputId": "9f2d0ad7-3e29-4830-8407-9e82278d2384"
      },
      "execution_count": 13,
      "outputs": [
        {
          "output_type": "execute_result",
          "data": {
            "text/plain": [
              "3"
            ]
          },
          "metadata": {},
          "execution_count": 13
        }
      ]
    },
    {
      "cell_type": "code",
      "source": [
        "def counter(maximum):\n",
        "    i = 0\n",
        "    while i < maximum:\n",
        "        val = (yield i)\n",
        "        # If value provided, change counter\n",
        "        if val is not None:\n",
        "            i = val\n",
        "        else:\n",
        "            i += 1\n",
        "\n",
        "\n",
        "\n",
        "it = counter(20)\n",
        "next(it)"
      ],
      "metadata": {
        "colab": {
          "base_uri": "https://localhost:8080/"
        },
        "id": "VbWLpb_seOMi",
        "outputId": "54a9790f-cef9-475b-8622-fa8f364cbad6"
      },
      "execution_count": 14,
      "outputs": [
        {
          "output_type": "execute_result",
          "data": {
            "text/plain": [
              "0"
            ]
          },
          "metadata": {},
          "execution_count": 14
        }
      ]
    },
    {
      "cell_type": "code",
      "source": [
        "next(it)"
      ],
      "metadata": {
        "colab": {
          "base_uri": "https://localhost:8080/"
        },
        "id": "dHhNvTseeOOp",
        "outputId": "67163ee8-4c97-495e-b6f0-788b110c9aca"
      },
      "execution_count": 15,
      "outputs": [
        {
          "output_type": "execute_result",
          "data": {
            "text/plain": [
              "1"
            ]
          },
          "metadata": {},
          "execution_count": 15
        }
      ]
    },
    {
      "cell_type": "code",
      "source": [
        "it.send(8)"
      ],
      "metadata": {
        "colab": {
          "base_uri": "https://localhost:8080/"
        },
        "id": "iahBts9OeORm",
        "outputId": "8f641b85-b560-4dad-fc68-63bdd026d223"
      },
      "execution_count": 16,
      "outputs": [
        {
          "output_type": "execute_result",
          "data": {
            "text/plain": [
              "8"
            ]
          },
          "metadata": {},
          "execution_count": 16
        }
      ]
    },
    {
      "cell_type": "code",
      "source": [
        "next(it)"
      ],
      "metadata": {
        "colab": {
          "base_uri": "https://localhost:8080/",
          "height": 176
        },
        "id": "hcZJ6L6veOZ5",
        "outputId": "999daab1-c57c-4ab9-a085-40279f069ca6"
      },
      "execution_count": 27,
      "outputs": [
        {
          "output_type": "error",
          "ename": "StopIteration",
          "evalue": "ignored",
          "traceback": [
            "\u001b[0;31m---------------------------------------------------------------------------\u001b[0m",
            "\u001b[0;31mStopIteration\u001b[0m                             Traceback (most recent call last)",
            "\u001b[0;32m<ipython-input-27-bc1ab118995a>\u001b[0m in \u001b[0;36m<cell line: 1>\u001b[0;34m()\u001b[0m\n\u001b[0;32m----> 1\u001b[0;31m \u001b[0mnext\u001b[0m\u001b[0;34m(\u001b[0m\u001b[0mit\u001b[0m\u001b[0;34m)\u001b[0m\u001b[0;34m\u001b[0m\u001b[0;34m\u001b[0m\u001b[0m\n\u001b[0m",
            "\u001b[0;31mStopIteration\u001b[0m: "
          ]
        }
      ]
    },
    {
      "cell_type": "code",
      "source": [
        "def upper(s):\n",
        "  return s.upper()\n",
        "\n",
        "list(map(upper, ['yaswanth', 'presidency']))"
      ],
      "metadata": {
        "colab": {
          "base_uri": "https://localhost:8080/"
        },
        "id": "xaSTGLLueOcH",
        "outputId": "2abb9027-b1ed-4c00-8e90-40652c92ad13"
      },
      "execution_count": 30,
      "outputs": [
        {
          "output_type": "execute_result",
          "data": {
            "text/plain": [
              "['YASWANTH', 'PRESIDENCY']"
            ]
          },
          "metadata": {},
          "execution_count": 30
        }
      ]
    },
    {
      "cell_type": "code",
      "source": [
        "[upper(s) for s in ['sentence', 'fragment']]\n"
      ],
      "metadata": {
        "colab": {
          "base_uri": "https://localhost:8080/"
        },
        "id": "f4QcFYvlgvbe",
        "outputId": "d1ed2202-3a08-4aba-bca6-0acdfa599d08"
      },
      "execution_count": 31,
      "outputs": [
        {
          "output_type": "execute_result",
          "data": {
            "text/plain": [
              "['SENTENCE', 'FRAGMENT']"
            ]
          },
          "metadata": {},
          "execution_count": 31
        }
      ]
    },
    {
      "cell_type": "code",
      "source": [
        "def is_even(x):\n",
        "  return (x % 2) == 0\n",
        "list(filter(is_even, range(20)))"
      ],
      "metadata": {
        "colab": {
          "base_uri": "https://localhost:8080/"
        },
        "id": "yGEpWyuggv9t",
        "outputId": "10c98272-29dc-4dfa-c606-5a29f9f43296"
      },
      "execution_count": 32,
      "outputs": [
        {
          "output_type": "execute_result",
          "data": {
            "text/plain": [
              "[0, 2, 4, 6, 8, 10, 12, 14, 16, 18]"
            ]
          },
          "metadata": {},
          "execution_count": 32
        }
      ]
    },
    {
      "cell_type": "code",
      "source": [
        "def is_even(x):\n",
        "  return (x % 2) == 0\n",
        "list(filter(is_even, range(30)))"
      ],
      "metadata": {
        "colab": {
          "base_uri": "https://localhost:8080/"
        },
        "id": "cTCgeOCLgwDj",
        "outputId": "b398e6fa-f661-459e-c30e-05c18f1a3bd6"
      },
      "execution_count": 34,
      "outputs": [
        {
          "output_type": "execute_result",
          "data": {
            "text/plain": [
              "[0, 2, 4, 6, 8, 10, 12, 14, 16, 18, 20, 22, 24, 26, 28]"
            ]
          },
          "metadata": {},
          "execution_count": 34
        }
      ]
    },
    {
      "cell_type": "code",
      "source": [
        "for item in enumerate(['A', 'B', 'C']):\n",
        "  print(item)\n"
      ],
      "metadata": {
        "colab": {
          "base_uri": "https://localhost:8080/"
        },
        "id": "kt4z2rqygwGN",
        "outputId": "79d364fe-49da-409c-ae37-73062b4184fa"
      },
      "execution_count": 35,
      "outputs": [
        {
          "output_type": "stream",
          "name": "stdout",
          "text": [
            "(0, 'A')\n",
            "(1, 'B')\n",
            "(2, 'C')\n"
          ]
        }
      ]
    },
    {
      "cell_type": "code",
      "source": [
        "for item in enumerate(['X', 'Y', 'Z']):\n",
        "  print(item)"
      ],
      "metadata": {
        "colab": {
          "base_uri": "https://localhost:8080/"
        },
        "id": "iIZ0KrshgwL4",
        "outputId": "fdcb0800-03fe-45dd-814b-0c857d5d9807"
      },
      "execution_count": 36,
      "outputs": [
        {
          "output_type": "stream",
          "name": "stdout",
          "text": [
            "(0, 'X')\n",
            "(1, 'Y')\n",
            "(2, 'Z')\n"
          ]
        }
      ]
    },
    {
      "cell_type": "code",
      "source": [
        "import random\n",
        "rand_list = random.sample(range(20000), 9)\n",
        "rand_list"
      ],
      "metadata": {
        "colab": {
          "base_uri": "https://localhost:8080/"
        },
        "id": "RJc7xEu2gwPJ",
        "outputId": "8f002bee-6746-400c-840b-56619c462779"
      },
      "execution_count": 37,
      "outputs": [
        {
          "output_type": "execute_result",
          "data": {
            "text/plain": [
              "[12270, 5720, 7464, 12129, 12803, 19339, 2857, 15358, 6248]"
            ]
          },
          "metadata": {},
          "execution_count": 37
        }
      ]
    },
    {
      "cell_type": "code",
      "source": [
        "sorted(rand_list)"
      ],
      "metadata": {
        "colab": {
          "base_uri": "https://localhost:8080/"
        },
        "id": "-WfdvGbQgwR9",
        "outputId": "2c38ccd8-85d4-41c1-a74e-5fcdec2d264b"
      },
      "execution_count": 38,
      "outputs": [
        {
          "output_type": "execute_result",
          "data": {
            "text/plain": [
              "[2857, 5720, 6248, 7464, 12129, 12270, 12803, 15358, 19339]"
            ]
          },
          "metadata": {},
          "execution_count": 38
        }
      ]
    },
    {
      "cell_type": "code",
      "source": [
        "sorted(rand_list, reverse=True)"
      ],
      "metadata": {
        "id": "O947ZtzygwUn"
      },
      "execution_count": null,
      "outputs": []
    },
    {
      "cell_type": "code",
      "source": [
        "zip(['x','y','z'], (2,4,6,))"
      ],
      "metadata": {
        "colab": {
          "base_uri": "https://localhost:8080/"
        },
        "id": "-k-M7ikUgwXi",
        "outputId": "a1911139-4050-4091-b593-93c12d2e3d5d"
      },
      "execution_count": 39,
      "outputs": [
        {
          "output_type": "execute_result",
          "data": {
            "text/plain": [
              "<zip at 0x7a0a81f85bc0>"
            ]
          },
          "metadata": {},
          "execution_count": 39
        }
      ]
    },
    {
      "cell_type": "code",
      "source": [
        "from functools import partial\n",
        "\n",
        "\n",
        "def power(a, b):\n",
        "\treturn a**b\n",
        "\n",
        "\n",
        "# partial functions\n",
        "pow2 = partial(power, b=2)\n",
        "pow4 = partial(power, b=4)\n",
        "power_of_5 = partial(power, 5)\n",
        "\n",
        "print(power(5, 3))\n",
        "print(pow2(5))\n",
        "print(pow4(3))\n",
        "print(power_of_5(6))\n",
        "\n",
        "print('Function used in partial function pow2 :', pow2.func)\n",
        "print('Default keywords for pow2 :', pow2.keywords)\n",
        "print('Default arguments for power_of_5 :', power_of_5.args)\n"
      ],
      "metadata": {
        "colab": {
          "base_uri": "https://localhost:8080/"
        },
        "id": "Tt2wJPKkgwat",
        "outputId": "4c55b730-0cef-47c2-abff-ac70ccd17195"
      },
      "execution_count": 40,
      "outputs": [
        {
          "output_type": "stream",
          "name": "stdout",
          "text": [
            "125\n",
            "25\n",
            "81\n",
            "15625\n",
            "Function used in partial function pow2 : <function power at 0x7a0a80303760>\n",
            "Default keywords for pow2 : {'b': 2}\n",
            "Default arguments for power_of_5 : (5,)\n"
          ]
        }
      ]
    },
    {
      "cell_type": "code",
      "source": [
        "from functools import partialmethod\n",
        "\n",
        "class Demo:\n",
        "\tdef __init__(self):\n",
        "\t\tself.color = 'black'\n",
        "\n",
        "\tdef _color(self, type):\n",
        "\t\tself.color = type\n",
        "\n",
        "\tset_red = partialmethod(_color, type='red')\n",
        "\tset_blue = partialmethod(_color, type='blue')\n",
        "\tset_green = partialmethod(_color, type='green')\n",
        "\n",
        "\n",
        "obj = Demo()\n",
        "print(obj.color)\n",
        "\n",
        "obj.set_blue()\n",
        "print(obj.color)\n",
        "\n",
        "obj.set_red()\n",
        "print(obj.color)\n",
        "\n",
        "obj.set_green()\n",
        "print(obj.color)"
      ],
      "metadata": {
        "colab": {
          "base_uri": "https://localhost:8080/"
        },
        "id": "Pni5ekP4gwdP",
        "outputId": "48986624-d304-4237-e8a0-c3301597109d"
      },
      "execution_count": 41,
      "outputs": [
        {
          "output_type": "stream",
          "name": "stdout",
          "text": [
            "black\n",
            "blue\n",
            "red\n",
            "green\n"
          ]
        }
      ]
    },
    {
      "cell_type": "code",
      "source": [
        "from functools import cmp_to_key\n",
        "\n",
        "def cmp_fun(a, b):\n",
        "\tif a[-1] > b[-1]:\n",
        "\t\treturn 1\n",
        "\telif a[-1] < b[-1]:\n",
        "\t\treturn -1\n",
        "\telse:\n",
        "\t\treturn 0\n",
        "\n",
        "list1 = ['X', 'Y', 'R']\n",
        "l = sorted(list1, key = cmp_to_key(cmp_fun))\n",
        "print('sorted list :', l)\n"
      ],
      "metadata": {
        "colab": {
          "base_uri": "https://localhost:8080/"
        },
        "id": "-OdvCWA6jMrX",
        "outputId": "7af7dc24-b9fb-4eeb-cda5-18e5b1162224"
      },
      "execution_count": 43,
      "outputs": [
        {
          "output_type": "stream",
          "name": "stdout",
          "text": [
            "sorted list : ['R', 'X', 'Y']\n"
          ]
        }
      ]
    },
    {
      "cell_type": "code",
      "source": [
        "from functools import reduce\n",
        "list1 = [4, 8, 5, 4, 7, 6]\n",
        "sum_of_list1 = reduce(lambda a, b:a + b, list1)\n",
        "\n",
        "list2 = [\"abc\", \"xyz\", \"def\"]\n",
        "max_of_list2 = reduce(lambda a, b:a if a>b else b, list2)\n",
        "\n",
        "print('Sum of list1 :', sum_of_list1)\n",
        "print('Maximum of list2 :', max_of_list2)"
      ],
      "metadata": {
        "colab": {
          "base_uri": "https://localhost:8080/"
        },
        "id": "k6cdnGZ0jMwE",
        "outputId": "035599e5-bef9-4645-cf44-0a43e13afd50"
      },
      "execution_count": 44,
      "outputs": [
        {
          "output_type": "stream",
          "name": "stdout",
          "text": [
            "Sum of list1 : 34\n",
            "Maximum of list2 : xyz\n"
          ]
        }
      ]
    },
    {
      "cell_type": "code",
      "source": [
        "from functools import total_ordering\n",
        "\n",
        "@total_ordering\n",
        "class N:\n",
        "\tdef __init__(self, value):\n",
        "\t\tself.value = value\n",
        "\tdef __eq__(self, other):\n",
        "\t\treturn self.value == other.value\n",
        "\n",
        "\tdef __lt__(self, other):\n",
        "\t\treturn self.value > other.value\n",
        "\n",
        "\n",
        "print('8 > 2 :', N(8)>N(2))\n",
        "print('4 < 1 :', N(4)<N(1))\n",
        "print('4 <= 7 :', N(4)<= N(7))\n",
        "print('9 >= 10 :', N(9)>= N(10))\n",
        "print('10 == 10 :', N(10)== N(10))\n"
      ],
      "metadata": {
        "colab": {
          "base_uri": "https://localhost:8080/"
        },
        "id": "2ij2I5CIjMyq",
        "outputId": "691cad68-6ebe-41a3-cf4f-891a87c66ec9"
      },
      "execution_count": 45,
      "outputs": [
        {
          "output_type": "stream",
          "name": "stdout",
          "text": [
            "8 > 2 : False\n",
            "4 < 1 : True\n",
            "4 <= 7 : False\n",
            "9 >= 10 : True\n",
            "10 == 10 : True\n"
          ]
        }
      ]
    },
    {
      "cell_type": "code",
      "source": [
        "from itertools import count\n",
        "\n",
        "for number in count(start=1, step=2):\n",
        "\tif number > 40:\n",
        "\t\tbreak\n",
        "\tprint(number)\n"
      ],
      "metadata": {
        "colab": {
          "base_uri": "https://localhost:8080/"
        },
        "id": "lGcxNOuSjM1V",
        "outputId": "845c0d5b-1e35-484f-acd3-14709ea5fa87"
      },
      "execution_count": 46,
      "outputs": [
        {
          "output_type": "stream",
          "name": "stdout",
          "text": [
            "1\n",
            "3\n",
            "5\n",
            "7\n",
            "9\n",
            "11\n",
            "13\n",
            "15\n",
            "17\n",
            "19\n",
            "21\n",
            "23\n",
            "25\n",
            "27\n",
            "29\n",
            "31\n",
            "33\n",
            "35\n",
            "37\n",
            "39\n"
          ]
        }
      ]
    },
    {
      "cell_type": "code",
      "source": [
        "import itertools\n",
        "for i in itertools.count(5, 5):\n",
        "\tif i == 35:\n",
        "\t\tbreak\n",
        "\telse:\n",
        "\t\tprint(i, end=\" \")"
      ],
      "metadata": {
        "colab": {
          "base_uri": "https://localhost:8080/"
        },
        "id": "QDEJh1nujM3_",
        "outputId": "cfa77448-88eb-449c-b4a1-fbcdb2a02c2a"
      },
      "execution_count": 47,
      "outputs": [
        {
          "output_type": "stream",
          "name": "stdout",
          "text": [
            "5 10 15 20 25 30 "
          ]
        }
      ]
    },
    {
      "cell_type": "code",
      "source": [],
      "metadata": {
        "id": "p284vdDgjM6u"
      },
      "execution_count": null,
      "outputs": []
    },
    {
      "cell_type": "code",
      "source": [
        " iteimportrtools\n",
        "\n",
        "count = 0\n",
        "\n",
        "for i in itertools.cycle('XY'):\n",
        "\tif count > 8:\n",
        "\t\tbreak\n",
        "\telse:\n",
        "\t\tprint(i, end=\" \")\n",
        "\t\tcount += 1"
      ],
      "metadata": {
        "colab": {
          "base_uri": "https://localhost:8080/"
        },
        "id": "9LRXSWrqcr2U",
        "outputId": "2a3855f9-6c74-4915-f057-2da128e7d355"
      },
      "execution_count": null,
      "outputs": [
        {
          "output_type": "stream",
          "name": "stdout",
          "text": [
            "X Y X Y X Y X Y X "
          ]
        }
      ]
    },
    {
      "cell_type": "code",
      "source": [],
      "metadata": {
        "id": "Pc-gmXBejM9a"
      },
      "execution_count": null,
      "outputs": []
    },
    {
      "cell_type": "code",
      "source": [
        "import itertools\n",
        "\n",
        "l = ['BCA', 'MCA', 'EEE']\n",
        "\n",
        "iterators = itertools.cycle(l)\n",
        "\n",
        "for i in range(8):\n",
        "\n",
        "\tprint(next(iterators), end=\" \")"
      ],
      "metadata": {
        "colab": {
          "base_uri": "https://localhost:8080/"
        },
        "outputId": "27913fbc-2d0b-47b2-b3ec-2aabf1c3dd77",
        "id": "cYCqZ64GkFOm"
      },
      "execution_count": 48,
      "outputs": [
        {
          "output_type": "stream",
          "name": "stdout",
          "text": [
            "BCA MCA EEE BCA MCA EEE BCA MCA "
          ]
        }
      ]
    },
    {
      "cell_type": "code",
      "source": [
        "import itertools\n",
        "\n",
        "print(\"Printing the numbers repeatedly : \")\n",
        "print(list(itertools.repeat(25, 9)))"
      ],
      "metadata": {
        "colab": {
          "base_uri": "https://localhost:8080/"
        },
        "id": "Lso8dJCdjM_g",
        "outputId": "acf84445-7c1b-4cc8-d672-d9cfe43515bf"
      },
      "execution_count": 49,
      "outputs": [
        {
          "output_type": "stream",
          "name": "stdout",
          "text": [
            "Printing the numbers repeatedly : \n",
            "[25, 25, 25, 25, 25, 25, 25, 25, 25]\n"
          ]
        }
      ]
    },
    {
      "cell_type": "code",
      "source": [
        "from itertools import product\n",
        "\n",
        "print(\"The cartesian product using repeat:\")\n",
        "print(list(product([1, 2], repeat=2)))\n",
        "print()\n",
        "\n",
        "print(\"The cartesian product of the containers:\")\n",
        "print(list(product(['BCA', 'CSE', 'EEE'], '2')))\n",
        "print()\n",
        "\n",
        "print(\"The cartesian product of the containers:\")\n",
        "print(list(product('AB', [4, 6])))"
      ],
      "metadata": {
        "colab": {
          "base_uri": "https://localhost:8080/"
        },
        "id": "_K15pqnajNFY",
        "outputId": "91c360ac-a9bd-47f8-ef26-b1582bc21948"
      },
      "execution_count": 50,
      "outputs": [
        {
          "output_type": "stream",
          "name": "stdout",
          "text": [
            "The cartesian product using repeat:\n",
            "[(1, 1), (1, 2), (2, 1), (2, 2)]\n",
            "\n",
            "The cartesian product of the containers:\n",
            "[('BCA', '2'), ('CSE', '2'), ('EEE', '2')]\n",
            "\n",
            "The cartesian product of the containers:\n",
            "[('A', 4), ('A', 6), ('B', 4), ('B', 6)]\n"
          ]
        }
      ]
    },
    {
      "cell_type": "code",
      "source": [
        "from itertools import permutations\n",
        "\n",
        "print(\"All the permutations of the given list is:\")\n",
        "print(list(permutations([3, 'Computer'], 2)))\n",
        "print()\n",
        "\n",
        "print(\"All the permutations of the given string is:\")\n",
        "print(list(permutations('XY')))\n",
        "print()\n",
        "\n",
        "print(\"All the permutations of the given container is:\")\n",
        "print(list(permutations(range(6), 2)))"
      ],
      "metadata": {
        "colab": {
          "base_uri": "https://localhost:8080/"
        },
        "id": "TUtbc6T7jNHu",
        "outputId": "80ffb17a-cdc6-4919-bd5b-efde984cd4af"
      },
      "execution_count": 51,
      "outputs": [
        {
          "output_type": "stream",
          "name": "stdout",
          "text": [
            "All the permutations of the given list is:\n",
            "[(3, 'Computer'), ('Computer', 3)]\n",
            "\n",
            "All the permutations of the given string is:\n",
            "[('X', 'Y'), ('Y', 'X')]\n",
            "\n",
            "All the permutations of the given container is:\n",
            "[(0, 1), (0, 2), (0, 3), (0, 4), (0, 5), (1, 0), (1, 2), (1, 3), (1, 4), (1, 5), (2, 0), (2, 1), (2, 3), (2, 4), (2, 5), (3, 0), (3, 1), (3, 2), (3, 4), (3, 5), (4, 0), (4, 1), (4, 2), (4, 3), (4, 5), (5, 0), (5, 1), (5, 2), (5, 3), (5, 4)]\n"
          ]
        }
      ]
    },
    {
      "cell_type": "code",
      "source": [
        "from itertools import combinations\n",
        "\n",
        "print (\"All the combination of list in sorted order(without replacement) is:\")\n",
        "print(list(combinations(['A', 2], 2)))\n",
        "print()\n",
        "\n",
        "print (\"All the combination of string in sorted order(without replacement) is:\")\n",
        "print(list(combinations('AB', 2)))\n",
        "print()\n",
        "\n",
        "print (\"All the combination of list in sorted order(without replacement) is:\")\n",
        "print(list(combinations(range(2), 1)))"
      ],
      "metadata": {
        "colab": {
          "base_uri": "https://localhost:8080/"
        },
        "id": "P_teWZEdjNJ7",
        "outputId": "d5bbe329-1079-4240-badb-f527e8445898"
      },
      "execution_count": 52,
      "outputs": [
        {
          "output_type": "stream",
          "name": "stdout",
          "text": [
            "All the combination of list in sorted order(without replacement) is:\n",
            "[('A', 2)]\n",
            "\n",
            "All the combination of string in sorted order(without replacement) is:\n",
            "[('A', 'B')]\n",
            "\n",
            "All the combination of list in sorted order(without replacement) is:\n",
            "[(0,), (1,)]\n"
          ]
        }
      ]
    },
    {
      "cell_type": "code",
      "source": [
        "from itertools import combinations_with_replacement\n",
        "\n",
        "print(\"All the combination of string in sorted order(with replacement) is:\")\n",
        "print(list(combinations_with_replacement(\"AB\", 3)))\n",
        "print()\n",
        "\n",
        "print(\"All the combination of list in sorted order(with replacement) is:\")\n",
        "print(list(combinations_with_replacement([1, 3], 3)))\n",
        "print()\n",
        "\n",
        "print(\"All the combination of container in sorted order(with replacement) is:\")\n",
        "print(list(combinations_with_replacement(range(3), 1)))\n"
      ],
      "metadata": {
        "colab": {
          "base_uri": "https://localhost:8080/"
        },
        "id": "nrTHR42RjNM1",
        "outputId": "7e0d8c72-1927-4c36-a271-10d8e07646b0"
      },
      "execution_count": 53,
      "outputs": [
        {
          "output_type": "stream",
          "name": "stdout",
          "text": [
            "All the combination of string in sorted order(with replacement) is:\n",
            "[('A', 'A', 'A'), ('A', 'A', 'B'), ('A', 'B', 'B'), ('B', 'B', 'B')]\n",
            "\n",
            "All the combination of list in sorted order(with replacement) is:\n",
            "[(1, 1, 1), (1, 1, 3), (1, 3, 3), (3, 3, 3)]\n",
            "\n",
            "All the combination of container in sorted order(with replacement) is:\n",
            "[(0,), (1,), (2,)]\n"
          ]
        }
      ]
    },
    {
      "cell_type": "code",
      "source": [
        "import itertools\n",
        "import operator\n",
        "\n",
        "li1 = [2,3,4,6]\n",
        "\n",
        "print(\"The sum after each iteration is : \", end=\"\")\n",
        "print(list(itertools.accumulate(li1)))\n",
        "\n",
        "\n",
        "print(\"The product after each iteration is : \", end=\"\")\n",
        "print(list(itertools.accumulate(li1, operator.mul)))\n",
        "\n",
        "\n",
        "print(\"The sum after each iteration is : \", end=\"\")\n",
        "print(list(itertools.accumulate(li1)))"
      ],
      "metadata": {
        "colab": {
          "base_uri": "https://localhost:8080/"
        },
        "id": "Mx_n3-e0jNPU",
        "outputId": "549d6190-6018-456f-83af-25502daf03df"
      },
      "execution_count": 54,
      "outputs": [
        {
          "output_type": "stream",
          "name": "stdout",
          "text": [
            "The sum after each iteration is : [2, 5, 9, 15]\n",
            "The product after each iteration is : [2, 6, 24, 144]\n",
            "The sum after each iteration is : [2, 5, 9, 15]\n"
          ]
        }
      ]
    },
    {
      "cell_type": "code",
      "source": [
        "import itertools\n",
        "li1 = [1, 3,5,7]\n",
        "\n",
        "li2 = [1,3,4,6]\n",
        "\n",
        "li3 = [10,1,13,15]\n",
        "\n",
        "print(\"All values in mentioned chain are : \", end=\"\")\n",
        "print(list(itertools.chain(li1, li2, li3)))"
      ],
      "metadata": {
        "colab": {
          "base_uri": "https://localhost:8080/"
        },
        "id": "f36aFaYkjNUi",
        "outputId": "db2fc17a-f4df-437d-f88e-506d787243a3"
      },
      "execution_count": 55,
      "outputs": [
        {
          "output_type": "stream",
          "name": "stdout",
          "text": [
            "All values in mentioned chain are : [1, 3, 5, 7, 1, 3, 4, 6, 10, 1, 13, 15]\n"
          ]
        }
      ]
    },
    {
      "cell_type": "code",
      "source": [
        "import itertools\n",
        "\n",
        "\n",
        "li1 = [1,3,4,5,]\n",
        "\n",
        "li2 = [1,4,5,6]\n",
        "\n",
        "li3 = [8,6,7,8]\n",
        "\n",
        "li4 = [li1, li2, li3]\n",
        "\n",
        "print (\"All values in mentioned chain are : \", end =\"\")\n",
        "print (list(itertools.chain.from_iterable(li4)))"
      ],
      "metadata": {
        "colab": {
          "base_uri": "https://localhost:8080/"
        },
        "id": "mdRVd3AnjNXF",
        "outputId": "0acf2230-416f-4e87-8e3f-d6cf490d301f"
      },
      "execution_count": 56,
      "outputs": [
        {
          "output_type": "stream",
          "name": "stdout",
          "text": [
            "All values in mentioned chain are : [1, 3, 4, 5, 1, 4, 5, 6, 8, 6, 7, 8]\n"
          ]
        }
      ]
    },
    {
      "cell_type": "code",
      "source": [
        "import itertools\n",
        "\n",
        "print(\"The compressed values in string are : \", end=\"\")\n",
        "print(list(itertools.compress('GEEKSFORGEEKS', [1, 0, 0, 0, 0, 1, 0, 0, 1, 0, 0, 0, 0])))\n"
      ],
      "metadata": {
        "colab": {
          "base_uri": "https://localhost:8080/"
        },
        "id": "6_r4PPILjNZK",
        "outputId": "8b96d205-4d06-47d5-a3ee-5693fe1c7d55"
      },
      "execution_count": 57,
      "outputs": [
        {
          "output_type": "stream",
          "name": "stdout",
          "text": [
            "The compressed values in string are : ['G', 'F', 'G']\n"
          ]
        }
      ]
    },
    {
      "cell_type": "code",
      "source": [
        "import itertools\n",
        "\n",
        "li = [4,5,6,8,9]\n",
        "print (\"The values after condition returns false : \", end =\"\")\n",
        "print (list(itertools.dropwhile(lambda x : x % 2 == 0, li)))\n"
      ],
      "metadata": {
        "colab": {
          "base_uri": "https://localhost:8080/"
        },
        "id": "VlsY260_jNct",
        "outputId": "8dc46a90-1dec-45da-8297-1d18b6b170ea"
      },
      "execution_count": 58,
      "outputs": [
        {
          "output_type": "stream",
          "name": "stdout",
          "text": [
            "The values after condition returns false : [5, 6, 8, 9]\n"
          ]
        }
      ]
    },
    {
      "cell_type": "code",
      "source": [
        "import itertools\n",
        "li = [2, 4, 5, 7, 8]\n",
        "print (\"The values after condition returns false : \", end =\"\")\n",
        "print (list(itertools.dropwhile(lambda x : x % 2 == 0, li)))\n"
      ],
      "metadata": {
        "colab": {
          "base_uri": "https://localhost:8080/"
        },
        "id": "2eFM-UYnles0",
        "outputId": "e82d0046-9202-4c52-d708-7a76b60aad22"
      },
      "execution_count": 59,
      "outputs": [
        {
          "output_type": "stream",
          "name": "stdout",
          "text": [
            "The values after condition returns false : [5, 7, 8]\n"
          ]
        }
      ]
    },
    {
      "cell_type": "code",
      "source": [
        "import itertools\n",
        "\n",
        "li = [2, 4, 5, 7, 8]\n",
        "\n",
        "print (\"The values that return false to function are : \", end =\"\")\n",
        "print (list(itertools.filterfalse(lambda x : x % 2 == 0, li)))\n"
      ],
      "metadata": {
        "colab": {
          "base_uri": "https://localhost:8080/"
        },
        "id": "o3L7yq_JlhBk",
        "outputId": "559b25be-917f-40f8-c790-04bfa435cf35"
      },
      "execution_count": 60,
      "outputs": [
        {
          "output_type": "stream",
          "name": "stdout",
          "text": [
            "The values that return false to function are : [5, 7]\n"
          ]
        }
      ]
    },
    {
      "cell_type": "code",
      "source": [
        "import itertools\n",
        "li = [2,4,6,7,8,9,10,30]\n",
        "print (\"The sliced list values are : \", end =\"\")\n",
        "print (list(itertools.islice(li, 1, 6, 2)))\n"
      ],
      "metadata": {
        "colab": {
          "base_uri": "https://localhost:8080/"
        },
        "id": "fV37ufT4llmt",
        "outputId": "b0548933-8c04-4a31-9847-5003dda86679"
      },
      "execution_count": 61,
      "outputs": [
        {
          "output_type": "stream",
          "name": "stdout",
          "text": [
            "The sliced list values are : [4, 7, 9]\n"
          ]
        }
      ]
    },
    {
      "cell_type": "code",
      "source": [
        "import itertools\n",
        "\n",
        "li = [ (1, 10, 5), (8, 4, 1), (5, 5, 9), (11, 37, 1) ]\n",
        "\n",
        "print (\"The values acc. to function are : \", end =\"\")\n",
        "print (list(itertools.starmap(min, li)))\n"
      ],
      "metadata": {
        "colab": {
          "base_uri": "https://localhost:8080/"
        },
        "id": "RbQt9QLwlo7r",
        "outputId": "8ff52bfa-baa6-42e3-8bc5-d5afd5bde363"
      },
      "execution_count": 62,
      "outputs": [
        {
          "output_type": "stream",
          "name": "stdout",
          "text": [
            "The values acc. to function are : [1, 1, 5, 1]\n"
          ]
        }
      ]
    },
    {
      "cell_type": "code",
      "source": [
        "import itertools\n",
        "\n",
        "li = [2, 4, 6, 7, 8, 10, 20, 30]\n",
        "print (\"The list values till 1st false value are : \", end =\"\")\n",
        "print (list(itertools.takewhile(lambda x : x % 2 == 0, li )))\n"
      ],
      "metadata": {
        "colab": {
          "base_uri": "https://localhost:8080/"
        },
        "id": "L0wplitNlrhv",
        "outputId": "2337f459-e718-4803-b300-ec3114272acc"
      },
      "execution_count": 63,
      "outputs": [
        {
          "output_type": "stream",
          "name": "stdout",
          "text": [
            "The list values till 1st false value are : [2, 4, 6]\n"
          ]
        }
      ]
    },
    {
      "cell_type": "code",
      "source": [
        "import itertools\n",
        "\n",
        "li = [2, 4, 6, 7, 8, 10, 20]\n",
        "\n",
        "iti = iter(li)\n",
        "\n",
        "it = itertools.tee(iti, 3)\n",
        "\n",
        "print(\"The iterators are : \")\n",
        "for i in range(0, 3):\n",
        "\tprint(list(it[i]))\n"
      ],
      "metadata": {
        "colab": {
          "base_uri": "https://localhost:8080/"
        },
        "id": "ghIMiMLvl1RT",
        "outputId": "a7a5e97b-b5cc-410e-f0d4-af1bed255552"
      },
      "execution_count": 64,
      "outputs": [
        {
          "output_type": "stream",
          "name": "stdout",
          "text": [
            "The iterators are : \n",
            "[2, 4, 6, 7, 8, 10, 20]\n",
            "[2, 4, 6, 7, 8, 10, 20]\n",
            "[2, 4, 6, 7, 8, 10, 20]\n"
          ]
        }
      ]
    },
    {
      "cell_type": "code",
      "source": [
        "import itertools\n",
        "\n",
        "print(\"The combined values of iterables is : \")\n",
        "print(*(itertools.zip_longest('Peiec', 'rsdny', fillvalue='_')))\n"
      ],
      "metadata": {
        "colab": {
          "base_uri": "https://localhost:8080/"
        },
        "id": "ftg4aAICl6zf",
        "outputId": "9554e11f-d13b-4f75-a935-9a53ccb63ef6"
      },
      "execution_count": 65,
      "outputs": [
        {
          "output_type": "stream",
          "name": "stdout",
          "text": [
            "The combined values of iterables is : \n",
            "('P', 'r') ('e', 's') ('i', 'd') ('e', 'n') ('c', 'y')\n"
          ]
        }
      ]
    },
    {
      "cell_type": "code",
      "source": [],
      "metadata": {
        "id": "cY5CgkA0mDE1"
      },
      "execution_count": null,
      "outputs": []
    }
  ]
}